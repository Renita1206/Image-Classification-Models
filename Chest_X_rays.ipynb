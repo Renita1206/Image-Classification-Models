{
  "nbformat": 4,
  "nbformat_minor": 0,
  "metadata": {
    "colab": {
      "name": "Chest X-rays.ipynb",
      "provenance": [],
      "collapsed_sections": [
        "V_AxIXhTcqCJ",
        "85Xy_cAIc1Mu",
        "eDknIaAsgjfg",
        "egF6tI8jf-pW"
      ],
      "authorship_tag": "ABX9TyMUCKF4uanWDmRjIzW6JSbJ",
      "include_colab_link": true
    },
    "kernelspec": {
      "name": "python3",
      "display_name": "Python 3"
    },
    "language_info": {
      "name": "python"
    },
    "accelerator": "GPU"
  },
  "cells": [
    {
      "cell_type": "markdown",
      "metadata": {
        "id": "view-in-github",
        "colab_type": "text"
      },
      "source": [
        "<a href=\"https://colab.research.google.com/github/Renita1206/Image-Classification-Models/blob/main/Chest_X_rays.ipynb\" target=\"_parent\"><img src=\"https://colab.research.google.com/assets/colab-badge.svg\" alt=\"Open In Colab\"/></a>"
      ]
    },
    {
      "cell_type": "markdown",
      "metadata": {
        "id": "V_AxIXhTcqCJ"
      },
      "source": [
        "# Setting up the Dataset"
      ]
    },
    {
      "cell_type": "code",
      "metadata": {
        "id": "rDSwbWu2ah7M"
      },
      "source": [
        "! pip install --upgrade --force-reinstall --no-deps kaggle"
      ],
      "execution_count": null,
      "outputs": []
    },
    {
      "cell_type": "code",
      "metadata": {
        "id": "5lmzxD5Ka1BL"
      },
      "source": [
        "from google.colab import files\n",
        "files.upload()"
      ],
      "execution_count": null,
      "outputs": []
    },
    {
      "cell_type": "code",
      "metadata": {
        "id": "GTgEUBXnb3Gp"
      },
      "source": [
        "!mkdir ~/.kaggle\n",
        "!cp kaggle.json ~/.kaggle/kaggle.json"
      ],
      "execution_count": null,
      "outputs": []
    },
    {
      "cell_type": "code",
      "metadata": {
        "id": "RT5Ptsm2b4ho"
      },
      "source": [
        "! chmod 600 ~/.kaggle/kaggle.json"
      ],
      "execution_count": null,
      "outputs": []
    },
    {
      "cell_type": "code",
      "metadata": {
        "id": "BwaQszjhb4m6"
      },
      "source": [
        "! kaggle datasets download -d tolgadincer/labeled-chest-xray-images"
      ],
      "execution_count": null,
      "outputs": []
    },
    {
      "cell_type": "code",
      "metadata": {
        "id": "dftYsMmXb4qR"
      },
      "source": [
        "!unzip labeled-chest-xray-images.zip -d dataset"
      ],
      "execution_count": null,
      "outputs": []
    },
    {
      "cell_type": "markdown",
      "metadata": {
        "id": "85Xy_cAIc1Mu"
      },
      "source": [
        "# Model Training"
      ]
    },
    {
      "cell_type": "code",
      "metadata": {
        "id": "l9mq2U2yc4DX"
      },
      "source": [
        "import tensorflow as tf\n",
        "import matplotlib.pyplot as plt\n",
        "import numpy as np"
      ],
      "execution_count": null,
      "outputs": []
    },
    {
      "cell_type": "code",
      "metadata": {
        "id": "ffmuPznlc9U6"
      },
      "source": [
        "training_path=\"/content/dataset/chest_xray/train\"\n",
        "test_path=\"/content/dataset/chest_xray/test\""
      ],
      "execution_count": null,
      "outputs": []
    },
    {
      "cell_type": "code",
      "metadata": {
        "id": "VX9AiIsYc_6e"
      },
      "source": [
        "train_dataset=tf.keras.preprocessing.image_dataset_from_directory(training_path,image_size=(200,200),batch_size=32)"
      ],
      "execution_count": null,
      "outputs": []
    },
    {
      "cell_type": "code",
      "metadata": {
        "id": "bq4aYv2NdEg_"
      },
      "source": [
        "test_dataset=tf.keras.preprocessing.image_dataset_from_directory(test_path,image_size=(200,200),batch_size=32)"
      ],
      "execution_count": null,
      "outputs": []
    },
    {
      "cell_type": "code",
      "metadata": {
        "id": "qH2RHl8QdQap"
      },
      "source": [
        "CNNmodel = tf.keras.models.Sequential()\n",
        "#first conv layer\n",
        "CNNmodel.add(tf.keras.layers.Conv2D(32, (3,3), activation='relu', input_shape=(200,200, 3)))\n",
        "CNNmodel.add(tf.keras.layers.MaxPooling2D(2,2))\n",
        "CNNmodel.add(tf.keras.layers.BatchNormalization())\n",
        "#second conv layer\n",
        "CNNmodel.add(tf.keras.layers.Conv2D(64, (3, 3), activation= 'relu'))\n",
        "CNNmodel.add(tf.keras.layers.MaxPooling2D(2,2))\n",
        "CNNmodel.add(tf.keras.layers.Dropout(0.3))\n",
        "#third conv layer\n",
        "CNNmodel.add(tf.keras.layers.Conv2D(32, (3, 3), activation= 'relu'))\n",
        "CNNmodel.add(tf.keras.layers.MaxPooling2D(2,2))\n",
        "#fifth conv layer\n",
        "CNNmodel.add(tf.keras.layers.Conv2D(128, (3, 3), activation= 'relu'))\n",
        "CNNmodel.add(tf.keras.layers.MaxPooling2D(2,2))\n",
        "CNNmodel.add(tf.keras.layers.Dropout(0.4))\n",
        "\n",
        "# Neural Network - For classification\n",
        "CNNmodel.add(tf.keras.layers.Flatten())\n",
        "CNNmodel.add(tf.keras.layers.Dense(64, activation='relu'))\n",
        "CNNmodel.add(tf.keras.layers.Dropout(0.4))\n",
        "CNNmodel.add(tf.keras.layers.Dense(16, activation='relu'))\n",
        "CNNmodel.add(tf.keras.layers.Dropout(0.3))\n",
        "CNNmodel.add(tf.keras.layers.Dense(4,activation='softmax'))"
      ],
      "execution_count": null,
      "outputs": []
    },
    {
      "cell_type": "code",
      "metadata": {
        "id": "02NPIBLKdZl3"
      },
      "source": [
        "CNNmodel.summary()"
      ],
      "execution_count": null,
      "outputs": []
    },
    {
      "cell_type": "code",
      "metadata": {
        "id": "HNQHI8bldab0"
      },
      "source": [
        "CNNmodel.compile(optimizer='adam',\n",
        "                 loss=tf.keras.losses.SparseCategoricalCrossentropy(),\n",
        "                 metrics = ['accuracy'])"
      ],
      "execution_count": null,
      "outputs": []
    },
    {
      "cell_type": "code",
      "metadata": {
        "id": "LYElFiW1dfPt"
      },
      "source": [
        "history = CNNmodel.fit(train_dataset, validation_data=test_dataset, epochs = 8)"
      ],
      "execution_count": null,
      "outputs": []
    },
    {
      "cell_type": "markdown",
      "metadata": {
        "id": "eDknIaAsgjfg"
      },
      "source": [
        "# Graphs"
      ]
    },
    {
      "cell_type": "code",
      "metadata": {
        "id": "9O0zi9yTgmgJ"
      },
      "source": [
        "plt.plot(history.history['accuracy'])\n",
        "plt.plot(history.history['val_accuracy'])\n",
        "plt.title('Model')\n",
        "plt.xlabel('epoch')\n",
        "plt.ylabel('accuracy')\n",
        "plt.ylim([0.5,1])\n",
        "plt.legend(['train', 'test'], loc='upper left')\n",
        "plt.show()"
      ],
      "execution_count": null,
      "outputs": []
    },
    {
      "cell_type": "code",
      "metadata": {
        "id": "GgDIiWqigpe0"
      },
      "source": [
        "plt.plot(history.history['loss'])\n",
        "plt.plot(history.history['val_loss'])\n",
        "plt.title('Model')\n",
        "plt.xlabel('epoch')\n",
        "plt.ylabel('loss')\n",
        "# plt.ylim([0.5,1])\n",
        "plt.legend(['train', 'test'], loc='upper left')\n",
        "plt.show()"
      ],
      "execution_count": null,
      "outputs": []
    },
    {
      "cell_type": "markdown",
      "metadata": {
        "id": "egF6tI8jf-pW"
      },
      "source": [
        "# Output Part"
      ]
    },
    {
      "cell_type": "code",
      "metadata": {
        "id": "fH-DI8J6gBNZ"
      },
      "source": [
        "from tensorflow.keras.applications.resnet50 import preprocess_input, decode_predictions\n",
        "from tensorflow.keras.preprocessing import image"
      ],
      "execution_count": null,
      "outputs": []
    },
    {
      "cell_type": "code",
      "metadata": {
        "id": "hXN7BG3Hha0-"
      },
      "source": [
        "#from google.colab import files\n",
        "#files.upload()"
      ],
      "execution_count": null,
      "outputs": []
    },
    {
      "cell_type": "code",
      "metadata": {
        "id": "blzaZTWVgEh-"
      },
      "source": [
        "img_path = \"/content/P2.jpg\"\n",
        "img = image.load_img(img_path, target_size=(200, 200, 3))\n",
        "plt.imshow(img)\n",
        "plt.show()"
      ],
      "execution_count": null,
      "outputs": []
    },
    {
      "cell_type": "code",
      "metadata": {
        "id": "CO6N9c4xgHUz"
      },
      "source": [
        "img_array = image.img_to_array(img)\n",
        "img_array = tf.expand_dims(img_array, 0) # Create a batch\n",
        "\n",
        "predictions = CNNmodel.predict(img_array)\n",
        "score = tf.nn.softmax(predictions[0])"
      ],
      "execution_count": null,
      "outputs": []
    },
    {
      "cell_type": "code",
      "metadata": {
        "id": "3z_qO_5rgKSX"
      },
      "source": [
        "class_names = train_dataset.class_names\n",
        "print(class_names)"
      ],
      "execution_count": null,
      "outputs": []
    },
    {
      "cell_type": "code",
      "metadata": {
        "id": "wxbTM0XjgOdp"
      },
      "source": [
        "#print(decode_predictions(pred, top=3)[0])\n",
        "result=np.sort(score)\n",
        "result_name=np.argsort(score)\n"
      ],
      "execution_count": null,
      "outputs": []
    },
    {
      "cell_type": "code",
      "metadata": {
        "id": "QbVkkwZqgPQ5"
      },
      "source": [
        "print(\"Patient Diagnosis: \",class_names[result_name[-1]])"
      ],
      "execution_count": null,
      "outputs": []
    }
  ]
}